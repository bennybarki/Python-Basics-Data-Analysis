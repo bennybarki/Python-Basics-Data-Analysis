{
 "cells": [
  {
   "cell_type": "code",
   "execution_count": 10,
   "metadata": {},
   "outputs": [],
   "source": [
    "from operator import add, sub, mul, pow, truediv\n",
    "from functools import reduce\n",
    "import itertools\n",
    "from itertools import permutations\n",
    "import os"
   ]
  },
  {
   "cell_type": "markdown",
   "metadata": {},
   "source": [
    "# Q1"
   ]
  },
  {
   "cell_type": "code",
   "execution_count": 30,
   "metadata": {},
   "outputs": [],
   "source": [
    "# Question 1\n",
    "# Part A\n",
    "def is_expanding_functional(ls):\n",
    "\n",
    "    ls_ex = [abs(a-b) for a,b in zip(ls,ls[1:])]\n",
    "    ls_ex_c = list(set(ls_ex))\n",
    "    ls_ex_c.sort()\n",
    "    return (ls_ex_c == ls_ex )\n",
    "    \n",
    "    pass\n",
    "\n",
    "# Part B\n",
    "def is_expanding_effcient(ls):\n",
    "    \n",
    "    num =0\n",
    "    for i in range(len(ls)-1):\n",
    "        if(i==0):\n",
    "            continue\n",
    "        elif (abs(ls[i]-ls[i-1])>=abs(ls[i]-ls[i+1])):\n",
    "            return False\n",
    "    return True\n",
    "    \n",
    "    pass\n",
    "\n",
    "# Part C\n",
    "def count_expanding_series(ls):\n",
    "    \n",
    "    count = 1\n",
    "    for i in range(len(ls)-1):\n",
    "        if(i==0):\n",
    "            continue\n",
    "        elif (abs(ls[i]-ls[i-1])>=abs(ls[i]-ls[i+1])):\n",
    "            count+=1\n",
    "    \n",
    "    return count\n",
    "    \n",
    "    pass"
   ]
  },
  {
   "cell_type": "code",
   "execution_count": 31,
   "metadata": {},
   "outputs": [
    {
     "name": "stdout",
     "output_type": "stream",
     "text": [
      "True\n",
      "True\n",
      "3\n"
     ]
    }
   ],
   "source": [
    "# Example code for Q1 -\n",
    "print(is_expanding_functional([5, 6, 8, 11]))\n",
    "\n",
    "# Example code for Q1 - part B\n",
    "print(is_expanding_effcient([5, 6, 8, 11]))\n",
    "\n",
    "# Example code for Q1 - part C\n",
    "print(count_expanding_series([1, 2, 4, 4, 3, 1, 2]))\n"
   ]
  },
  {
   "cell_type": "markdown",
   "metadata": {},
   "source": [
    "# Q2\n"
   ]
  },
  {
   "cell_type": "code",
   "execution_count": 42,
   "metadata": {},
   "outputs": [],
   "source": [
    "## Question 2\n",
    "# Part A\n",
    "import string\n",
    "import os\n",
    "\n",
    "def create_encryption_mapping(offset):\n",
    "    \n",
    "    text = string.ascii_lowercase\n",
    "    dict_letters={}\n",
    "    for let in text:\n",
    "        if ord(let)+offset<123:\n",
    "            dict_letters[let]=chr(ord(let)+offset)\n",
    "        else:\n",
    "            dict_letters[let]=chr(ord(let)-(26-offset))\n",
    "    return (dict_letters)\n",
    "    \n",
    "    \n",
    "    \n",
    "    pass\n",
    "\n",
    "# Part B\n",
    "def encrypt_text(in_file, dict, out_file):\n",
    "    \n",
    "    try:\n",
    "        with open (in_file) as myfile:\n",
    "            if(os.stat(in_file).st_size==0):\n",
    "                raise ValueError('File Is Empty , Nothing to Encrypt ') \n",
    "            else:\n",
    "                read = myfile.read()\n",
    "\n",
    "    except IOError:\n",
    "        print(\"missing input file, cannot encrypt\")\n",
    "    except FileNotFoundError:\n",
    "        print(\"missing input file, cannot encrypt\")\n",
    "    else:\n",
    "        a = list(read)\n",
    "        my_input_file = [x.lower() if x.isupper() and x.isalpha() else x  for x in a ]\n",
    "                  \n",
    "#need to add ValueError\n",
    "        \n",
    "    my_input_file_new = []\n",
    "\n",
    "    for i in my_input_file:\n",
    "        if i.isalpha():\n",
    "            my_input_file_new.append(dict[i])\n",
    "        else:\n",
    "            my_input_file_new.append(i)\n",
    "\n",
    "    outputline = ''\n",
    "    for f in my_input_file_new:\n",
    "        outputline = outputline + f\n",
    "    \n",
    "    try:\n",
    "        f = open(out_file,'w')\n",
    "        f.write(outputline)\n",
    "    except IOError:\n",
    "        print(\"cannot write encryption, fix output path\")    \n",
    "    else:\n",
    "        f.close()  \n",
    "    \n",
    "    pass\n",
    "\n",
    "#this func retrun new dict that switch the keys and the values \n",
    "def switch_kv(d):\n",
    "   \n",
    "    return (dict((v,k) for k,v in d.items()))\n",
    "    \n",
    "\n",
    "# Part c\n",
    "def decrypt_text(in_file, dict, out_file):\n",
    "    \n",
    "    dict_c = switch_kv(dict)\n",
    "    \n",
    "    encrypt_text(in_file, dict_c, out_file)\n",
    "\n",
    "    \n",
    "    pass\n",
    "\n",
    "# Part D\n",
    "def find_optimal_encryption(ls, bit_dict):\n",
    "    \n",
    "    f_letter = {}    \n",
    "    a =  ''.join(list(filter(lambda x : x.isalpha(), ''.join(ls)))).lower()\n",
    "\n",
    "    for i in a:\n",
    "        if i.isalpha():\n",
    "            f_letter[i] = a.count(i)-(ord(i)/1000000)\n",
    "\n",
    "    \n",
    "    bit_dict_sorted = {k: v for k, v in sorted(bit_dict.items(), key=lambda x: x[1],reverse=True)}\n",
    "    f_letter_sorted = {k: v for k, v in sorted(f_letter.items(), key=lambda x: x[1])}\n",
    "    \n",
    "    return dict(zip(f_letter_sorted.keys(),bit_dict_sorted.keys()))"
   ]
  },
  {
   "cell_type": "code",
   "execution_count": 43,
   "metadata": {},
   "outputs": [
    {
     "name": "stdout",
     "output_type": "stream",
     "text": [
      "{'a': 'd', 'b': 'e', 'c': 'f', 'd': 'g', 'e': 'h', 'f': 'i', 'g': 'j', 'h': 'k', 'i': 'l', 'j': 'm', 'k': 'n', 'l': 'o', 'm': 'p', 'n': 'q', 'o': 'r', 'p': 's', 'q': 't', 'r': 'u', 's': 'v', 't': 'w', 'u': 'x', 'v': 'y', 'w': 'z', 'x': 'a', 'y': 'b', 'z': 'c'}\n",
      "{'c': 'a', 'a': 'b', 'b': 'c'}\n"
     ]
    }
   ],
   "source": [
    "# Example code for Q2 -\n",
    "encrypt_dict_ = create_encryption_mapping(3)\n",
    "print(encrypt_dict_)\n",
    "\n",
    "# Example code for Q2 - part B\n",
    "\n",
    "encrypt_text('input_file.txt', encrypt_dict_, 'output_file.txt')\n",
    "\n",
    "# Example code for Q2 - part C\n",
    "decrypt_text('output_file.txt', encrypt_dict_, 'decrypted_file.txt')\n",
    "\n",
    "# Example code for Q2 - part D\n",
    "bit_dic = {'a': 30, 'b': 8, 'c': 2}\n",
    "ls = ['aabbb', 'aabbbb', 'bbacc']\n",
    "print(find_optimal_encryption(ls, bit_dic))"
   ]
  },
  {
   "cell_type": "markdown",
   "metadata": {},
   "source": [
    "# Q3"
   ]
  },
  {
   "cell_type": "code",
   "execution_count": 18,
   "metadata": {},
   "outputs": [],
   "source": [
    "## Question 3\n",
    "# Part A\n",
    "def permute(items):\n",
    "    \n",
    "    ls = list(itertools.permutations(items))    \n",
    "    ls.sort()\n",
    "\n",
    "    for x in ls:\n",
    "        l = yield x\n",
    "        if l:\n",
    "            yield from permute(l)\n",
    "            break\n",
    "\n",
    "\n",
    "# Part B\n",
    "import math\n",
    "def addToT(t,b,op):\n",
    "    \n",
    "    a = reduce(lambda x,y:op(x,y),b)\n",
    "    t.append((b,a))\n",
    "    return t\n",
    "\n",
    "def perfrom_math_operation(permutations, op):\n",
    "     \n",
    "    t = []  \n",
    "    b = next(permutations)\n",
    "    try: \n",
    "        t = addToT(t,b,op)\n",
    "        for i in range((math.factorial(len(b))-1)):\n",
    "            b = next(permutations)\n",
    "            t = addToT(t,b,op)\n",
    "    except ZeroDivisionError:\n",
    "        print('Cannot divide numbers by zero, please go back to school')\n",
    "    \n",
    "    else: \n",
    "        return t\n",
    "    \n",
    "    pass\n",
    "\n",
    "# Part C\n",
    "def group_permutation_values(permutations_list):\n",
    "    \n",
    "    try:\n",
    "        f = lambda x: x[1]\n",
    "        sorted_list = sorted(permutations_list, key=f)\n",
    "    \n",
    "    except :\n",
    "        print('Cannot divide numbers by zero, please go back to school') \n",
    "    else:\n",
    "        return {k: [t[0] for t in g] for k, g in itertools.groupby(sorted_list, f)}\n",
    "    \n"
   ]
  },
  {
   "cell_type": "code",
   "execution_count": 21,
   "metadata": {},
   "outputs": [
    {
     "name": "stdout",
     "output_type": "stream",
     "text": [
      "a b c\n",
      "a c b\n",
      "b a c\n",
      "b c a\n",
      "c a b\n",
      "c b a\n",
      "{-4: [(1, 2, 3), (1, 3, 2)], -2: [(2, 1, 3), (2, 3, 1)], 0: [(3, 1, 2), (3, 2, 1)]}\n"
     ]
    }
   ],
   "source": [
    "# Example code for Q3 - part A\n",
    "for p in permute(['b', 'a', 'c']): print(' '.join(p))\n",
    "\n",
    "# Example code for Q3 - part B\n",
    "''' uncomment this, after implementing part B, and compare the results to the excerise document '''\n",
    "operations = [add, sub, mul, pow, truediv]\n",
    "numbers = [1, 2, 3]\n",
    "results = perfrom_math_operation(permute(numbers), sub)\n",
    "\n",
    "# Example code for Q3 - part C , and compare the results to the excerise document\n",
    "''' uncomment this, after implementing part C, and compare the results to the excerise document '''\n",
    "print(group_permutation_values(results))"
   ]
  }
 ],
 "metadata": {
  "kernelspec": {
   "display_name": "Python 3",
   "language": "python",
   "name": "python3"
  },
  "language_info": {
   "codemirror_mode": {
    "name": "ipython",
    "version": 3
   },
   "file_extension": ".py",
   "mimetype": "text/x-python",
   "name": "python",
   "nbconvert_exporter": "python",
   "pygments_lexer": "ipython3",
   "version": "3.7.4"
  }
 },
 "nbformat": 4,
 "nbformat_minor": 2
}
